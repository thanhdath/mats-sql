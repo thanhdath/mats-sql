{
 "cells": [
  {
   "cell_type": "code",
   "execution_count": 2,
   "metadata": {},
   "outputs": [
    {
     "name": "stdout",
     "output_type": "stream",
     "text": [
      "DatasetDict({\n",
      "    train: Dataset({\n",
      "        features: ['prompt_id', 'messages'],\n",
      "        num_rows: 6478\n",
      "    })\n",
      "    test: Dataset({\n",
      "        features: ['prompt_id', 'messages'],\n",
      "        num_rows: 100\n",
      "    })\n",
      "})\n"
     ]
    },
    {
     "data": {
      "text/plain": [
       "\"DatasetDict({\\n    train: Dataset({\\n        features: ['prompt_id', 'messages'],\\n        num_rows: 6593\\n    })\\n    test: Dataset({\\n        features: ['prompt_id', 'messages'],\\n        num_rows: 100\\n    })\\n})\""
      ]
     },
     "execution_count": 2,
     "metadata": {},
     "output_type": "execute_result"
    }
   ],
   "source": [
    "from datasets import load_from_disk\n",
    "\n",
    "dataset = load_from_disk(\"data/multi-agents/validator/sft-validator_select_spider\")\n",
    "print(dataset)\n",
    "\n",
    "\"\"\"DatasetDict({\n",
    "    train: Dataset({\n",
    "        features: ['prompt_id', 'messages'],\n",
    "        num_rows: 6593\n",
    "    })\n",
    "    test: Dataset({\n",
    "        features: ['prompt_id', 'messages'],\n",
    "        num_rows: 100\n",
    "    })\n",
    "})\"\"\""
   ]
  },
  {
   "cell_type": "code",
   "execution_count": 3,
   "metadata": {},
   "outputs": [
    {
     "name": "stdout",
     "output_type": "stream",
     "text": [
      "Dataset Split: test\n",
      "Index: 20\n",
      "Prompt: Generate feedbacks to fix the following SQL query:\n",
      "database schema:\n",
      "table status , columns = [\n",
      "  status.bikes_available | type: integer ; values: 7\n",
      "  status.time | type: text ; values: 2015-06-02 12:46:02\n",
      "  status.docks_available | type: integer ; values: 7\n",
      "  status.station_id | type: integer ; values: 7\n",
      "]\n",
      "table station , columns = [\n",
      "  station.dock_count | type: integer ; values: 27\n",
      "  station.lat | type: numeric ; meaning: latitude ; values: 37.329732\n",
      "  station.city | type: text ; values: San Jose\n",
      "  station.id | primary key ; type: integer ; values: 7\n",
      "  station.installation_date | type: text ; values: 8/7/2013\n",
      "  station.name | type: text ; values: Redwood City Caltrain Station , Mountain View Caltrain Station\n",
      "  station.long | type: numeric ; meaning: longitude ; values: -121.90178200000001\n",
      "]\n",
      "table weather , columns = [\n",
      "  weather.mean_visibility_miles | type: integer ; values: 7\n",
      "  weather.mean_humidity | type: integer ; values: 75\n",
      "  weather.min_visibility_miles | type: integer ; values: 7\n",
      "  weather.max_temperature_f | type: integer ; values: 74\n",
      "  weather.mean_dew_point_f | type: integer ; values: 58\n",
      "  weather.precipitation_inches | type: integer ; values: 0\n",
      "  weather.min_humidity | type: integer ; values: 57\n",
      "  weather.events | type: text ; values: Fog\n",
      "  weather.date | type: text ; values: 7/7/2014 , 7/7/2015\n",
      "  weather.mean_sea_level_pressure_inches | type: numeric ; values: 30.02\n",
      "]\n",
      "table trip , columns = [\n",
      "  trip.end_station_id | type: integer ; values: 7\n",
      "  trip.bike_id | type: integer ; values: 454\n",
      "  trip.end_station_name | type: text ; values: Mountain View Caltrain Station , California Ave Caltrain Station\n",
      "  trip.zip_code | type: integer ; values: 94041\n",
      "  trip.start_station_name | type: text ; values: Mountain View Caltrain Station , Palo Alto Caltrain Station\n",
      "  trip.id | primary key ; type: integer ; values: 900504\n",
      "  trip.start_date | type: text ; values: 8/25/2015 7:04 , 8/25/2015 7:05\n",
      "  trip.subscription_type | type: text ; values: Subscriber\n",
      "  trip.start_station_id | type: integer ; values: 7\n",
      "  trip.end_date | type: text ; values: 8/25/2015 7:00 , 8/25/2015 7:02\n",
      "]\n",
      "foreign keys:\n",
      "status.station_id = station.id\n",
      "\n",
      "Question: What are the ids of stations that have latitude above 37.4 and never had bike availability below 7?\n",
      "External knowledge: \n",
      "\n",
      "SQL query: SELECT station.id \n",
      "FROM station \n",
      "WHERE station.lat > 37.4 \n",
      "EXCEPT \n",
      "SELECT status.station_id \n",
      "FROM status \n",
      "GROUP BY status.station_id \n",
      "HAVING MIN(status.bikes_available) < 7;\n",
      "\n",
      "Execution response:\n",
      "id\n",
      "0   25\n",
      "1   31\n",
      "..  ..\n",
      "25  76\n",
      "26  77\n",
      "\n",
      "[27 rows x 1 columns]\n",
      "\n",
      "Feedback:\n",
      "Completion: SELECT.\n",
      "1. Based on the SQL query, the query selects: [station.id]\n",
      "2. The question asks for ['ids of stations']\n",
      "3. Based on the question, the query should select: [station.id]\n",
      "4. Compare 1. and 3., The SQL query selects the correct column.\n",
      "5. Conclude: correct.\n",
      "\n",
      "The SELECT part of the query is correct as it selects the `station.id` which matches the requirement of the question to find the ids of stations that meet the specified criteria.\n"
     ]
    }
   ],
   "source": [
    "import random\n",
    "# Choose a random split (train or test)\n",
    "split = random.choice([\"train\", \"test\"])\n",
    "\n",
    "# Select a random index from the chosen split\n",
    "i = random.randint(0, len(dataset[split]) - 1)\n",
    "\n",
    "# Extract the prompt and completion\n",
    "messages = dataset[split][i][\"messages\"]\n",
    "prompt = messages.get(\"prompt\", \"No prompt found\")\n",
    "completion = messages.get(\"completion\", \"No completion found\")\n",
    "\n",
    "# Print results\n",
    "print(f\"Dataset Split: {split}\")\n",
    "print(f\"Index: {i}\")\n",
    "print(f\"Prompt: {prompt}\")\n",
    "print(f\"Completion: {completion}\")\n"
   ]
  },
  {
   "cell_type": "code",
   "execution_count": 17,
   "metadata": {},
   "outputs": [],
   "source": [
    "import json\n",
    "import re\n",
    "\n",
    "def extract_sql_in_code_block(pred_sql_text):\n",
    "    sql_block_match = re.search(r\"```(.+?)```\", pred_sql_text, re.DOTALL)\n",
    "\n",
    "    if sql_block_match:\n",
    "        sql_query = sql_block_match.group(1).strip()\n",
    "        if sql_query.startswith(\"sql\"):\n",
    "            sql_query = sql_query.replace(\"sql\", \"\")\n",
    "        return sql_query\n",
    "    else:\n",
    "        return pred_sql_text\n",
    "\n",
    "\n",
    "gt_file = '/home/datht/codes/data/bird-062024/dev/dev.json'\n",
    "gt = json.load(open(gt_file))\n",
    "db_id_question2sql = {}\n",
    "db_id_question2db_path = {}\n",
    "for item in gt:\n",
    "    db_id = item['db_id']\n",
    "    question = item['question']\n",
    "    sql = item['SQL']\n",
    "    db_id_question2sql[(db_id, question)] = sql\n",
    "    db_id_question2db_path[(db_id, question)] = f'/home/datht/codes/data/bird-062024/dev/dev_databases/{db_id}/' + db_id + '.sqlite'\n",
    "\n",
    "a = json.load(open('/mnt/datht/sql-cot/bird/llm/exp_result/llama_kg/predict_dev_cot_dict.json'))\n",
    "a.keys()\n",
    "a = [a[str(i)] for i in sorted(map(int, a.keys()))]\n",
    "\n",
    "for sample in a:\n",
    "    db_id = sample['db_id']\n",
    "    question = sample['question']\n",
    "    sql = db_id_question2sql.get((db_id, question), 'None')\n",
    "    sample['sql'] = sql\n",
    "    db_path = db_id_question2db_path.get((db_id, question), None)\n",
    "    sample['db_path'] = db_path\n",
    "\n",
    "    predict_sql = extract_sql_in_code_block(sample['plain_result'])\n",
    "    sample['final_sql'] = predict_sql\n",
    "# write to jsonl\n",
    "with open('/mnt/datht/sql-cot/bird/llm/exp_result/llama_kg/llama_bird_dev_cot_dict.jsonl', 'w') as f:\n",
    "    for i in a:\n",
    "        json.dump(i, f)\n",
    "        f.write('\\n')"
   ]
  },
  {
   "cell_type": "code",
   "execution_count": null,
   "metadata": {},
   "outputs": [],
   "source": []
  },
  {
   "cell_type": "code",
   "execution_count": 6,
   "metadata": {},
   "outputs": [
    {
     "data": {
      "text/plain": [
       "1534"
      ]
     },
     "execution_count": 6,
     "metadata": {},
     "output_type": "execute_result"
    }
   ],
   "source": [
    "len(a)"
   ]
  },
  {
   "cell_type": "code",
   "execution_count": null,
   "metadata": {},
   "outputs": [],
   "source": []
  }
 ],
 "metadata": {
  "kernelspec": {
   "display_name": "handbook",
   "language": "python",
   "name": "python3"
  },
  "language_info": {
   "codemirror_mode": {
    "name": "ipython",
    "version": 3
   },
   "file_extension": ".py",
   "mimetype": "text/x-python",
   "name": "python",
   "nbconvert_exporter": "python",
   "pygments_lexer": "ipython3",
   "version": "3.10.14"
  }
 },
 "nbformat": 4,
 "nbformat_minor": 2
}
